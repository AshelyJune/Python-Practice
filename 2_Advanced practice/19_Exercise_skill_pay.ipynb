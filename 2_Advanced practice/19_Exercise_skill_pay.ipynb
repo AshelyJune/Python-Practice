{
 "cells": [
  {
   "cell_type": "code",
   "execution_count": null,
   "metadata": {},
   "outputs": [],
   "source": [
    "#importing Libraries\n",
    "import pandas as pd\n",
    "from datasets import load_dataset\n",
    "import matplotlib.pyplot as plt\n",
    "import ast\n",
    "\n",
    "# Loading data\n",
    "dataset = load_dataset('lukebarousse/data_jobs')\n",
    "df = dataset['train'].to_pandas()\n",
    "\n",
    "#Data Cleanup\n",
    "df['job_posted_date'] = pd.to_datetime(df['job_posted_date'])\n",
    "df['job_skills'] = df['job_skills'].apply(lambda x: ast.literal_eval(x) if pd.notna(x) else x)"
   ]
  },
  {
   "cell_type": "code",
   "execution_count": null,
   "metadata": {},
   "outputs": [],
   "source": [
    "df_DA_US = df[(df['job_title_short']== 'Data Analyst')& (df['job_country'] == 'United States')].copy()\n",
    "\n",
    "df_DA_US = df_DA_US.dropna(subset= ['salary_year_avg'])"
   ]
  },
  {
   "cell_type": "code",
   "execution_count": null,
   "metadata": {},
   "outputs": [],
   "source": [
    "df_DA_US = df_DA_US.explode('job_skills')\n",
    "df_DA_US[['salary_year_avg','job_skills']]\n"
   ]
  },
  {
   "cell_type": "code",
   "execution_count": null,
   "metadata": {},
   "outputs": [],
   "source": [
    "df_DA_US_group = df_DA_US.groupby('job_skills')['salary_year_avg'].agg(['count','median'])\n",
    "\n",
    "df_DA_top_pay = df_DA_US_group.sort_values(by='median',ascending=False).head(10)\n",
    "\n",
    "df_DA_skills= df_DA_US_group.sort_values(by = 'count', ascending=False).head(10).sort_values(by='median',ascending=False)\n",
    "\n",
    "df_DA_skills"
   ]
  },
  {
   "cell_type": "code",
   "execution_count": null,
   "metadata": {},
   "outputs": [],
   "source": [
    "fig, ax = plt.subplots(2,1)\n",
    "\n",
    "df_DA_top_pay[::-1].plot(kind='barh', y= 'median', ax = ax[0], legend=False)\n",
    "#ax[0].invert_yaxis()\n",
    "\n",
    "ax[0].set_ylabel(\"\")\n",
    "ax[0].set_title('top 10 highest paying skills')\n",
    "ax[0].xaxis.set_major_formatter(plt.FuncFormatter(lambda x, pos : f'${int(x/1000)}K'))\n",
    "df_DA_skills[::-1].plot(kind='barh', y= 'median', ax= ax[1], legend=False)\n",
    "ax[1].set_xlim(ax[0].get_xlim())\n",
    "ax[1].set_ylabel('')\n",
    "ax[1].set_title('top 10 demand skills DA')\n",
    "ax[1].set_xlabel('Median Salary ($USD)')\n",
    "ax[1].xaxis.set_major_formatter(plt.FuncFormatter(lambda x, pos : f'${int(x/1000)}K'))\n",
    "fig.tight_layout()\n"
   ]
  },
  {
   "cell_type": "code",
   "execution_count": null,
   "metadata": {},
   "outputs": [],
   "source": []
  }
 ],
 "metadata": {
  "kernelspec": {
   "display_name": "python_course",
   "language": "python",
   "name": "python3"
  },
  "language_info": {
   "codemirror_mode": {
    "name": "ipython",
    "version": 3
   },
   "file_extension": ".py",
   "mimetype": "text/x-python",
   "name": "python",
   "nbconvert_exporter": "python",
   "pygments_lexer": "ipython3",
   "version": "3.11.11"
  }
 },
 "nbformat": 4,
 "nbformat_minor": 2
}
